{
 "cells": [
  {
   "cell_type": "code",
   "execution_count": 11,
   "id": "25f62826-12bf-40b9-9adf-38464353a889",
   "metadata": {},
   "outputs": [],
   "source": [
    "import tensorflow as tf\n",
    "import mediapipe as mp\n",
    "import cv2\n",
    "import numpy as np\n",
    "import os\n",
    "import matplotlib.pyplot as plt\n",
    "import sklearn\n",
    "import time"
   ]
  },
  {
   "cell_type": "code",
   "execution_count": 12,
   "id": "93372aa0-c9ab-4946-8d16-2bec0f287525",
   "metadata": {},
   "outputs": [],
   "source": [
    "mp_hol = mp.solutions.holistic\n",
    "mp_draw = mp.solutions.drawing_utils\n",
    "mp_face = mp.solutions.face_mesh "
   ]
  },
  {
   "cell_type": "code",
   "execution_count": 13,
   "id": "950dd8cb-6ce8-4db7-bee5-0802d8ab1d0a",
   "metadata": {},
   "outputs": [],
   "source": [
    "def mp_detection(image, model):\n",
    "    image = cv2.cvtColor(image, cv2.COLOR_BGR2RGB)\n",
    "    image.flags.writeable = False\n",
    "    results = model.process(image)\n",
    "    image.flags.writeable = True\n",
    "    image = cv2.cvtColor(image, cv2.COLOR_RGB2BGR)\n",
    "    return image, results"
   ]
  },
  {
   "cell_type": "code",
   "execution_count": 14,
   "id": "47065939-36c9-46f3-99d0-81b665ef97c2",
   "metadata": {},
   "outputs": [
    {
     "data": {
      "text/plain": [
       "'C:\\\\SignLangProj'"
      ]
     },
     "execution_count": 14,
     "metadata": {},
     "output_type": "execute_result"
    }
   ],
   "source": [
    "import os\n",
    "os.getcwd()\n"
   ]
  },
  {
   "cell_type": "code",
   "execution_count": 15,
   "id": "3f937e8d-ee0d-4605-b843-a6aec5b05970",
   "metadata": {},
   "outputs": [],
   "source": [
    "def draw_landmarks(image, results):\n",
    "    mp_draw.draw_landmarks(image, results.face_landmarks, mp_face.FACEMESH_TESSELATION,\n",
    "                           mp_draw.DrawingSpec(color=(85, 110, 10), thickness=1, circle_radius=1),\n",
    "                           mp_draw.DrawingSpec(color=(85, 256, 121), thickness=1, circle_radius=1)\n",
    "                          )\n",
    "    mp_draw.draw_landmarks(image, results.pose_landmarks, mp_hol.POSE_CONNECTIONS, \n",
    "                           mp_draw.DrawingSpec(color=(85, 110, 10), thickness=1, circle_radius=4),\n",
    "                           mp_draw.DrawingSpec(color=(85, 256, 121), thickness=1, circle_radius=2))\n",
    "    mp_draw.draw_landmarks(image, results.left_hand_landmarks, mp_hol.HAND_CONNECTIONS, mp_draw.DrawingSpec(color=(85, 110, 10), thickness=1, circle_radius=1),\n",
    "                           mp_draw.DrawingSpec(color=(85, 256, 121), thickness=1, circle_radius=4))\n",
    "    mp_draw.draw_landmarks(image, results.right_hand_landmarks, mp_hol.HAND_CONNECTIONS, mp_draw.DrawingSpec(color=(85, 110, 10), thickness=1, circle_radius=1),\n",
    "                           mp_draw.DrawingSpec(color=(85, 256, 121), thickness=1, circle_radius=2))"
   ]
  },
  {
   "cell_type": "code",
   "execution_count": 16,
   "id": "91af4c17-fd66-4277-9271-2b57486f83d6",
   "metadata": {},
   "outputs": [],
   "source": [
    "cap = cv2.VideoCapture(0)\n",
    "\n",
    "with mp_hol.Holistic(min_detection_confidence=0.5, min_tracking_confidence=0.5) as holistic:\n",
    "    while cap.isOpened():\n",
    "        ret, frame = cap.read()\n",
    "\n",
    "        image, results = mp_detection(frame, holistic)\n",
    "\n",
    "        draw_landmarks(image, results)\n",
    "        \n",
    "        cv2.imshow('OpenCV Feed', image)\n",
    "        if cv2.waitKey(10) & 0xFF == ord('q'):\n",
    "            break\n",
    "    cap.release()\n",
    "    cv2.destroyAllWindows()"
   ]
  },
  {
   "cell_type": "code",
   "execution_count": null,
   "id": "23f904df-a563-48ae-a6cf-4f1ab7eef53a",
   "metadata": {},
   "outputs": [],
   "source": []
  },
  {
   "cell_type": "markdown",
   "id": "385b9d9b-ff69-4913-bab2-e9ecbccc6453",
   "metadata": {},
   "source": [
    "**Extracting Keypoint Values to make an array from them**"
   ]
  },
  {
   "cell_type": "code",
   "execution_count": 17,
   "id": "4a6a31d0-f650-4a9c-bb8c-02084d1caa59",
   "metadata": {},
   "outputs": [],
   "source": [
    "def extract_keypoints(results):\n",
    "    pose = np.array([[res.x, res.y, res.z, res.visibility] for res in results.pose_landmarks.landmark]).flatten() if results.pose_landmarks.landmark else np.zeros(33*4)\n",
    "    lh = np.array([[res.x, res.y, res.z] for res in results.left_hand_landmarks.landmark]).flatten() if results.left_hand_landmarks else np.zeros(63)\n",
    "    rh = np.array([[res.x, res.y, res.z] for res in results.right_hand_landmarks.landmark]).flatten() if results.right_hand_landmarks else np.zeros(63)\n",
    "    face = np.array([[res.x, res.y, res.z] for res in results.face_landmarks.landmark]).flatten() if results.face_landmarks else np.zeros(1404)\n",
    "\n",
    "    return np.concatenate([pose, face, lh, rh])\n",
    "    "
   ]
  },
  {
   "cell_type": "markdown",
   "id": "69083ccf-04b8-4652-8fbc-741bb33f33db",
   "metadata": {},
   "source": [
    "**Creating folders to collect data**"
   ]
  },
  {
   "cell_type": "code",
   "execution_count": 18,
   "id": "ba4ecb6d-18df-4187-9a0a-47e0cf21bdfa",
   "metadata": {},
   "outputs": [],
   "source": [
    "DATA_PATH = os.path.join('MP_Data')\n",
    "\n",
    "##detecting 3 diff actions\n",
    "actions = np.array(['hello', 'thanks', 'i love you'])\n",
    "\n",
    "##30 vids of data\n",
    "no_seq = 30\n",
    "\n",
    "#each vid is 30 frames long\n",
    "seq_len = 30"
   ]
  },
  {
   "cell_type": "code",
   "execution_count": 19,
   "id": "932ce56e-97c5-451d-afcf-3be06439c499",
   "metadata": {},
   "outputs": [],
   "source": [
    "for action in actions:\n",
    "    for sequence in range (no_seq):\n",
    "        try:\n",
    "            os.makedirs(os.path.join(DATA_PATH, action, str(sequence)))\n",
    "        except:\n",
    "            pass"
   ]
  },
  {
   "cell_type": "code",
   "execution_count": null,
   "id": "abe67b15-88ee-4cbb-9b0c-5f008d80ef36",
   "metadata": {},
   "outputs": [],
   "source": []
  }
 ],
 "metadata": {
  "kernelspec": {
   "display_name": "Python (Latest Env)",
   "language": "python",
   "name": "latestenv"
  },
  "language_info": {
   "codemirror_mode": {
    "name": "ipython",
    "version": 3
   },
   "file_extension": ".py",
   "mimetype": "text/x-python",
   "name": "python",
   "nbconvert_exporter": "python",
   "pygments_lexer": "ipython3",
   "version": "3.8.10"
  }
 },
 "nbformat": 4,
 "nbformat_minor": 5
}
